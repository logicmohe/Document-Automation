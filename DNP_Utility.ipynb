{
  "nbformat": 4,
  "nbformat_minor": 0,
  "metadata": {
    "colab": {
      "name": "DNP-Utility.ipynb",
      "provenance": [],
      "collapsed_sections": [],
      "authorship_tag": "ABX9TyMQLVFjIYpsFVyhHp6LJxtb",
      "include_colab_link": true
    },
    "kernelspec": {
      "name": "python3",
      "display_name": "Python 3"
    },
    "language_info": {
      "name": "python"
    }
  },
  "cells": [
    {
      "cell_type": "markdown",
      "metadata": {
        "id": "view-in-github",
        "colab_type": "text"
      },
      "source": [
        "<a href=\"https://colab.research.google.com/github/logicmohe/Document-Automation/blob/master/DNP_Utility.ipynb\" target=\"_parent\"><img src=\"https://colab.research.google.com/assets/colab-badge.svg\" alt=\"Open In Colab\"/></a>"
      ]
    },
    {
      "cell_type": "code",
      "metadata": {
        "colab": {
          "base_uri": "https://localhost:8080/"
        },
        "id": "1ARp7gkdR7qP",
        "outputId": "e44bbde1-f4ab-4c87-fe23-5372566de530"
      },
      "source": [
        "'''\n",
        "Designed for Acuvim-S\n",
        "\n",
        "Process db, csv files at the #initali stage of system update\n",
        "\n",
        ":reference Triangle MicroWorks Protocol Test Harness Forge 3 pg 24\n",
        "'''\n",
        "!pip install xlsxwriter\n",
        "import xlsxwriter\n",
        "import csv\n",
        "import sqlite3"
      ],
      "execution_count": null,
      "outputs": [
        {
          "output_type": "stream",
          "text": [
            "Requirement already satisfied: xlsxwriter in /usr/local/lib/python3.7/dist-packages (1.4.3)\n"
          ],
          "name": "stdout"
        }
      ]
    },
    {
      "cell_type": "code",
      "metadata": {
        "id": "-BduYWt5R-hJ"
      },
      "source": [
        "class acuvims_xlsx:\n",
        "  '''\n",
        "  workbook for the user to check and compare the params\n",
        "  '''\n",
        "  workbook=xlsxwriter.Workbook('DNP_Point_Config.xlsx')\n",
        "  def __init__():\n",
        "    pass\n",
        "  \n",
        "  def add_sheets(self):\n",
        "    worksheet_realtime = workbook.add_worksheet()\n",
        "    worksheet_realtime = dnp_header(worksheet_realtime)\n",
        "\n",
        "  def anlg_header(self, worksheet):\n",
        "    header_format = workbook.add_format({'align':'center'})\n",
        "    worksheet.merge_range('A1:A2','Point Index',header_format)\n",
        "    worksheet.merge_range('B1:B2','Name',header_format)\n",
        "    worksheet.merge_range('C1:C2','Event Class Assigned',header_format)\n",
        "    worksheet.merge_range('D1:E1','Transmitted Value',header_format)\n",
        "    worksheet.write_string('D2', 'Min', header_format)\n",
        "    worksheet.write_string('E2', 'Max', header_format)\n",
        "    worksheet.merge_range('F1:G1','Scaling',header_format)\n",
        "    worksheet.write_string('F2', 'Multiplier', header_format)\n",
        "    worksheet.write_string('G2', 'Offset', header_format)\n",
        "    worksheet.merge_range('H1:H2','Units',header_format)\n",
        "    worksheet.merge_range('B2:B2','Resolution',header_format)\n",
        "    worksheet.merge_range('B2:B2','Description',header_format)\n",
        "    return worksheet"
      ],
      "execution_count": null,
      "outputs": []
    },
    {
      "cell_type": "code",
      "metadata": {
        "id": "_gPFpL3BOY44"
      },
      "source": [
        "class acuvims_csv:\n",
        "  '''\n",
        "  csv file to import into the DNP3 forge to create the device report\n",
        "  '''\n",
        "  def __init__(self):\n",
        "    pass\n",
        "  def col_header(self):\n",
        "    with open('/home/anlg_dnp.csv','a') as file:\n",
        "      writer = csv.writer(file)\n",
        "      writer.writeheader([\"Point_index\",\"Description\",\"Name\",\n",
        "                          \"Default_Event_Class\", \"Scale_Offset\",\n",
        "                          \"Scale_Factor\", \"Resolution\",\n",
        "                          \"Units\"])\n",
        "      writer.writerow([\"d\",\"d\"])\n"
      ],
      "execution_count": null,
      "outputs": []
    },
    {
      "cell_type": "code",
      "metadata": {
        "id": "7vAYnNrOPYr7"
      },
      "source": [
        "class sqlite_connection:\n",
        "  '''\n",
        "  Obtain data from sqlite3\n",
        "  '''\n",
        "  def __init__(self):\n",
        "    pass\n",
        "  def sqlite_connection():\n",
        "    con = sqlite3.connect('comm.db')\n",
        "    cursor = con.cursor()\n",
        "    for row in (cursor.execute('select * from DnpAnlgTable')):\n",
        "      print(row[0])"
      ],
      "execution_count": null,
      "outputs": []
    },
    {
      "cell_type": "code",
      "metadata": {
        "id": "-jH313g_RmUX",
        "colab": {
          "base_uri": "https://localhost:8080/",
          "height": 35
        },
        "outputId": "49085a08-d5ea-4dc1-a0ae-b59a0e6f26fe"
      },
      "source": [
        "'''\n",
        "Task has changed to creating the xml file based on the csv \n",
        "'''"
      ],
      "execution_count": null,
      "outputs": [
        {
          "output_type": "execute_result",
          "data": {
            "application/vnd.google.colaboratory.intrinsic+json": {
              "type": "string"
            },
            "text/plain": [
              "'\\nTask has changed to creating the xml file based on the csv \\n'"
            ]
          },
          "metadata": {
            "tags": []
          },
          "execution_count": 78
        }
      ]
    },
    {
      "cell_type": "code",
      "metadata": {
        "id": "Z9qKxIXylU9T"
      },
      "source": [
        "class dnp_profile_xml:\n",
        "  '''\n",
        "  Destination xml file containing the device info\n",
        "  '''\n",
        "  csv_file = ''\n",
        "  def __init__(self, csv_file):\n",
        "    self.csv_file = csv_file\n"
      ],
      "execution_count": null,
      "outputs": []
    },
    {
      "cell_type": "code",
      "metadata": {
        "id": "286g7xOOQLj7"
      },
      "source": [
        "class dnp_biin_xml(dnp_profile_xml):\n",
        "  '''\n",
        "  Binary Input Sample xml point\n",
        "  <!--IO01 DI STATUS 1-->\n",
        "  <binaryInput>\n",
        "    <index>0</index>\n",
        "    <name>IO01 DI STATUS 1</name>\n",
        "    <description>IO01 DI STATUS 1</description>\n",
        "    <changeEventClass>none</changeEventClass>\n",
        "    <nameState0>OFF</nameState0>\n",
        "    <nameState1>ON</nameState1>\n",
        "  </binaryInput>\n",
        "  '''\n",
        "  def __init__(self, csv_file):\n",
        "    super().__init__(csv_file)\n",
        "  def read(self):\n",
        "    with open(self.csv_file) as srcfile:\n",
        "      reader = csv.reader(srcfile, delimiter = ',')\n",
        "      for row in reader:\n",
        "        self.generate(row[0],row[2])\n",
        "  def generate(self, name, num):\n",
        "    dest_file = open('biin.txt','a+')\n",
        "    print('<!--'+ name +'-->', file = dest_file)\n",
        "    print('<binaryInput>', file = dest_file)\n",
        "    print('  <index>'+num+'</index>', file = dest_file)\n",
        "    print('  <name>'+ name +'</name>', file=dest_file)\n",
        "    print('  <description>'+ name +'</description>', file=dest_file)\n",
        "    print('  <changeEventClass>none</changeEventClass>', file=dest_file)\n",
        "    print('  <nameState0>OFF</nameState0>', file=dest_file)\n",
        "    print('  <nameState1>ON</nameState1>', file=dest_file)\n",
        "    print('</binaryInput>', file=dest_file)\n",
        "    dest_file.close()"
      ],
      "execution_count": null,
      "outputs": []
    },
    {
      "cell_type": "code",
      "metadata": {
        "id": "EYxWskfYmz4F"
      },
      "source": [
        "class dnp_biout_xml(dnp_profile_xml):\n",
        "  '''\n",
        "  Binary Output Sample xml point\n",
        "  <!--IO11 RO 1-->\n",
        "  <binaryOutput>\n",
        "    <index>0</index>\n",
        "    <name>IO11 RO 1</name>\n",
        "    <description>IO11 RO 1</description>\n",
        "    <changeEventClass>none</changeEventClass>\n",
        "    <commandEventClass>none</commandEventClass>\n",
        "    <supportedControlOperations>\n",
        "      <supportSelectOperate />\n",
        "      <supportDirectOperate />\n",
        "      <supportDirectOperateNoAck />\n",
        "      <supportLatchOn />\n",
        "    </supportedControlOperations>\n",
        "    <nameState0>OFF</nameState0>\n",
        "    <nameState1>ON</nameState1>\n",
        "  </binaryOutput>\n",
        "  '''\n",
        "  def __init__(self, csv_file):\n",
        "    super().__init__(csv_file)\n",
        "  def read(self):\n",
        "    with open(self.csv_file) as srcfile:\n",
        "      reader = csv.reader(srcfile, delimiter = ',')\n",
        "      for row in reader:\n",
        "        self.generate(row[0],row[2])\n",
        "  def generate(self, name, num):\n",
        "    dest_file = open('biout.txt','a+')\n",
        "    print('<!--'+ name +'-->', file = dest_file)\n",
        "    print('<binaryOutput>', file = dest_file)\n",
        "    print('  <index>'+num+'</index>', file = dest_file)\n",
        "    print('  <name>'+ name +'</name>', file=dest_file)\n",
        "    print('  <description>'+ name +'</description>', file=dest_file)\n",
        "    print('  <changeEventClass>none</changeEventClass>', file=dest_file)\n",
        "    print('  <commandEventClass>none</commandEventClass>', file = dest_file)\n",
        "    print('  <supportedControlOperations>', file = dest_file)\n",
        "    print('    <supportSelectOperate />', file = dest_file)\n",
        "    print('    <supportDirectOperate />', file = dest_file)\n",
        "    print('    <supportDirectOperateNoAck />', file = dest_file)\n",
        "    print('    <supportLatchOn />', file = dest_file)\n",
        "    print('  </supportedControlOperations>', file = dest_file)\n",
        "    print('  <nameState0>OFF</nameState0>', file=dest_file)\n",
        "    print('  <nameState1>ON</nameState1>', file=dest_file)\n",
        "    print('</binaryOutput>', file=dest_file)\n",
        "    dest_file.close()"
      ],
      "execution_count": null,
      "outputs": []
    },
    {
      "cell_type": "code",
      "metadata": {
        "id": "NZup3YPxnCow"
      },
      "source": [
        "class dnp_cnt_xml(dnp_profile_xml):\n",
        "  '''\n",
        "  Digital Input counter Sample xml point\n",
        "  <!--IO01 DI COUNTER 1-->\n",
        "  <counter>\n",
        "    <index>0</index>\n",
        "    <name>IO01 DI COUNTER 1</name>\n",
        "    <description>IO01 DI COUNTER 1</description>\n",
        "    <counterEventClass>none</counterEventClass>\n",
        "    <frozenCounterExists>true</frozenCounterExists>\n",
        "    <frozenCounterEventClass>none</frozenCounterEventClass>\n",
        "  </counter>\n",
        "  '''\n",
        "  def __init__(self, csv_file):\n",
        "    super().__init__(csv_file)\n",
        "  def read(self):\n",
        "    with open(self.csv_file) as srcfile:\n",
        "      reader = csv.reader(srcfile, delimiter = ',')\n",
        "      for row in reader:\n",
        "        self.generate(row[0],row[2])\n",
        "  def generate(self, name, num):\n",
        "    dest_file = open('cnt.txt','a+')\n",
        "    print('<!--'+ name +'-->', file = dest_file)\n",
        "    print('<counter>', file = dest_file)\n",
        "    print('  <index>'+num+'</index>', file = dest_file)\n",
        "    print('  <name>'+ name +'</name>', file=dest_file)\n",
        "    print('  <description>'+ name +'</description>', file=dest_file)\n",
        "    print('  <counterEventClass>none</counterEventClass>', file=dest_file)\n",
        "    print('  <frozenCounterExists>true</frozenCounterExists>', file=dest_file)\n",
        "    print('  <frozenCounterEventClass>none</frozenCounterEventClass>', file=dest_file)\n",
        "    print('</counter>', file=dest_file)\n",
        "    dest_file.close()\n"
      ],
      "execution_count": null,
      "outputs": []
    },
    {
      "cell_type": "code",
      "metadata": {
        "id": "zcewatKJnVjX"
      },
      "source": [
        "class dnp_anlg_xml(dnp_profile_xml):\n",
        "  '''\n",
        "  Anglog Input Sample xml point\n",
        "  <!--System Frequency-->\n",
        "  <analogInput>\n",
        "    <index>0</index>\n",
        "    <name>System Frequency</name>\n",
        "    <description>System Frequency</description>\n",
        "    <changeEventClass>none</changeEventClass>\n",
        "    <scaleOffset>0</scaleOffset>\n",
        "    <scaleFactor>1</scaleFactor>\n",
        "    <resolution>0.001</resolution>\n",
        "    <units>Hz</units>\n",
        "  </analogInput>\n",
        "  '''\n",
        "  def __init__(self, csv_file):\n",
        "    super().__init__(csv_file)\n",
        "  def read(self):\n",
        "    with open(self.csv_file) as srcfile:\n",
        "      reader = csv.reader(srcfile, delimiter = ',')\n",
        "      flag = True\n",
        "      for row in reader:\n",
        "        if flag == True:\n",
        "          flag = False\n",
        "          continue\n",
        "        self.generate(row[0],row[2], row[6], row[7])\n",
        "  def generate(self, name, num, resolution, unit):\n",
        "    dest_file = open('anlg.txt','a+')\n",
        "    print('<!--'+ name +'-->', file = dest_file)\n",
        "    print('<analogInput>', file = dest_file)\n",
        "    print('  <index>'+num+'</index>', file = dest_file)\n",
        "    print('  <name>'+ name +'</name>', file=dest_file)\n",
        "    print('  <description>'+ name +'</description>', file=dest_file)\n",
        "    print('  <changeEventClass>none</changeEventClass>', file=dest_file)\n",
        "    print('  <scaleOffset>0</scaleOffset>', file=dest_file)\n",
        "    print('  <scaleFactor>1</scaleFactor>', file=dest_file)\n",
        "    print('  <resolution>'+resolution+'</resolution>', file=dest_file)\n",
        "    print('  <units>'+unit+'</units>', file = dest_file)\n",
        "    print('</analogInput>', file=dest_file)\n",
        "    dest_file.close()\n"
      ],
      "execution_count": null,
      "outputs": []
    },
    {
      "cell_type": "code",
      "metadata": {
        "id": "v41VU6ZYpUdT"
      },
      "source": [
        "biin = dnp_biin_xml(\"dnpBiInProfile.csv\")\n",
        "biin.read()\n",
        "\n",
        "biout = dnp_biout_xml(\"dnpBiOutProfile.csv\")\n",
        "biout.read()\n",
        "\n",
        "cnt = dnp_cnt_xml(\"dnpCntProfile.csv\")\n",
        "cnt.read()\n",
        "\n",
        "anlg = dnp_anlg_xml(\"dnpAnlgProfile.csv\")\n",
        "anlg.read()"
      ],
      "execution_count": null,
      "outputs": []
    }
  ]
}