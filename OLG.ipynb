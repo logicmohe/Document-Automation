{
  "nbformat": 4,
  "nbformat_minor": 0,
  "metadata": {
    "colab": {
      "name": "OLG.ipynb",
      "provenance": [],
      "authorship_tag": "ABX9TyOuBKjbAe9agyLvN+riZhbt",
      "include_colab_link": true
    },
    "kernelspec": {
      "name": "python3",
      "display_name": "Python 3"
    }
  },
  "cells": [
    {
      "cell_type": "markdown",
      "metadata": {
        "id": "view-in-github",
        "colab_type": "text"
      },
      "source": [
        "<a href=\"https://colab.research.google.com/github/logicmohe/Document-Automation/blob/master/OLG.ipynb\" target=\"_parent\"><img src=\"https://colab.research.google.com/assets/colab-badge.svg\" alt=\"Open In Colab\"/></a>"
      ]
    },
    {
      "cell_type": "code",
      "metadata": {
        "id": "peZxYjDeR2dl"
      },
      "source": [
        "class session():\n",
        "  def __init__(self, name, number):\n",
        "    self._name=name\n",
        "    self._number=number"
      ],
      "execution_count": null,
      "outputs": []
    },
    {
      "cell_type": "code",
      "metadata": {
        "colab": {
          "base_uri": "https://localhost:8080/"
        },
        "id": "jvx0yhSHcnah",
        "outputId": "7214145b-f7c9-40d2-f5e1-4e75a13ae617"
      },
      "source": [
        "# Win Rate\n",
        "# Lotto Max 7 number + bonus\n",
        "# https://www.olg.ca/en/lottery/play-lotto-max-encore/odds-and-payouts.html\n",
        "class rate():\n",
        "  def __init__(self, fund):\n",
        "    '''\n",
        "    @param fund - total fund of the session\n",
        "    '''\n",
        "    self._fund = fund\n",
        "  def balance(self, prize, odd):\n",
        "    total = 0\n",
        "    for i in range(len(prize)):\n",
        "      total += (prize[i]*odd[i])\n",
        "    return total\n",
        "  def match (self, bonus):\n",
        "    prize, odd = [], []\n",
        "    if bonus == True:\n",
        "      prize=[self._fund*0.8725, self._fund*0.025,\n",
        "             self._fund*0.015, self._fund*0.0275, 20]\n",
        "      odd = [1/33294800, 1/4756400, 1/37749,\n",
        "             1/1104, 1/89.9]\n",
        "      return self.balance(prize, odd)\n",
        "    else:\n",
        "      prize=[self._fund*0.8725, self._fund*0.025,\n",
        "             self._fund*0.035, 20, 5]\n",
        "      odd = [1/33294800, 1/113248, 1/1841,\n",
        "             1/82.9, 1/8.5]\n",
        "      return self.balance(prize, odd)"
      ],
      "execution_count": null,
      "outputs": [
        {
          "output_type": "stream",
          "text": [
            "1.7924081470317264\n"
          ],
          "name": "stdout"
        }
      ]
    },
    {
      "cell_type": "code",
      "metadata": {
        "colab": {
          "base_uri": "https://localhost:8080/"
        },
        "id": "HmYG9ES_JJtM",
        "outputId": "f7c7deac-fa86-4b53-cf25-53d79e600945"
      },
      "source": [
        "lotto=rate(15000000)\n",
        "print(\"Buy Lotto Max without bonus\")\n",
        "print(\"Absolute Return: \" + str(lotto.match(False)) + \"\\n\"\n",
        "      \"Return Rate: \" + str(lotto.match(False)/5))\n",
        "print(\"Buy Lotto Max with bonus\")\n",
        "print(\"Absolute Return: \" + str(lotto.match(True)) + \"\\n\"\n",
        "      \"Return Rate: \" + str(lotto.match(True)/6))"
      ],
      "execution_count": null,
      "outputs": [
        {
          "output_type": "stream",
          "text": [
            "Buy Lotto Max without bonus\n",
            "Absolute Return: 289.70498863516883\n",
            "Return Rate: 57.94099772703377\n",
            "Buy Lotto Max with bonus\n",
            "Absolute Return: 380.2961170910833\n",
            "Return Rate: 63.38268618184722\n"
          ],
          "name": "stdout"
        }
      ]
    },
    {
      "cell_type": "code",
      "metadata": {
        "colab": {
          "base_uri": "https://localhost:8080/"
        },
        "id": "961cBp_WfdfE",
        "outputId": "5d0d9c48-3905-4a83-e6ff-f5c8ebdb17c2"
      },
      "source": [
        "from fractions import Fraction\n",
        "a=(7/50 * 6/49 * 5/48 * 4/47 * 3/46 * 2/45 * 1/44)\n",
        "print(1/a) "
      ],
      "execution_count": null,
      "outputs": [
        {
          "output_type": "stream",
          "text": [
            "99884399.99999999\n"
          ],
          "name": "stdout"
        }
      ]
    },
    {
      "cell_type": "code",
      "metadata": {
        "colab": {
          "base_uri": "https://localhost:8080/"
        },
        "id": "VtCRSfOmmtO3",
        "outputId": "033d3535-d0af-47be-b980-7fb69ae3b8b7"
      },
      "source": [
        "from math import factorial\n",
        "#https://garsia.math.yorku.ca/~zabrocki/math5020f03/lot649/lot649v3.pdf\n",
        "print(factorial(5))\n",
        "def set(n, r):\n",
        "  return ((factorial(n)/(factorial(r)*factorial(n-r))))\n",
        "\n",
        "\n",
        "print(set(6,4)*set(43,2)/set(49,6))\n",
        "# total,totalwin / totalwin, actualwin * total,(totalwin-actualwin)\n",
        "print(set(50,7)/(set(7,7)*set(50,0)))"
      ],
      "execution_count": null,
      "outputs": [
        {
          "output_type": "stream",
          "text": [
            "120\n",
            "0.000968619724401408\n",
            "99884400.0\n"
          ],
          "name": "stdout"
        }
      ]
    },
    {
      "cell_type": "code",
      "metadata": {
        "id": "7d1rRrBM0gQU"
      },
      "source": [
        "# 2021-04-27\n",
        "# 7/7 0\t$10,000,000.00\n",
        "# 6/7 + Bonus 1\t      $133,018.70\n",
        "# 6/7         34\t    $3,912.30\n",
        "# 5/7 + Bonus 94\t    $849.10\n",
        "# 5/7         1,889\t  $98.60\n",
        "# 4/7 + Bonus 3,454\t  $42.40\n",
        "# 4/7         42,744\t$20.00\n",
        "# 3/7 + Bonus 43,917\t$20.00\n",
        "# 3/7         407,757\tFREE PLAY\n",
        "winningRate = 1/7\n",
        "people = [1, 34, 94, 1889, 3454, 42744, 43744, 43917, 407757]\n",
        "prize = [133018, 3912, 849, 98, 42, 20, 20, 5]\n"
      ],
      "execution_count": null,
      "outputs": []
    },
    {
      "cell_type": "code",
      "metadata": {
        "colab": {
          "base_uri": "https://localhost:8080/"
        },
        "id": "383l0nde2QjG",
        "outputId": "f8e60219-321e-415f-e472-0d75ba700e07"
      },
      "source": [
        "# https://www.python-course.eu/python3_lambda.php\n",
        "totalTicket = (sum(people)/3)/winningRate\n",
        "totalMoney = totalTicket*5\n",
        "totalPrize = sum(map(lambda x,y: x*y, prize,people))\n",
        "print(sum(map(lambda x: x, prize)))\n",
        "from functools import reduce\n",
        "print(reduce(lambda x,y: x+y, prize))\n",
        "print(totalMoney)\n",
        "print(totalPrize)\n",
        "print(\"Total absolution return\")\n",
        "print(totalPrize/totalMoney)\n",
        "# totalTicket = totalWinner / winningRate\n",
        "# print(totalWinner)\n",
        "# buyMoney = totalTicket * 5 / 3\n",
        "# winMoney = 1 * 133018 + 34 * "
      ],
      "execution_count": null,
      "outputs": [
        {
          "output_type": "stream",
          "text": [
            "137964\n",
            "137964\n",
            "6342396.666666668\n",
            "2625367\n",
            "Total absolution return\n",
            "0.4139392627077355\n"
          ],
          "name": "stdout"
        }
      ]
    },
    {
      "cell_type": "code",
      "metadata": {
        "id": "pzw6RiI12Xae",
        "colab": {
          "base_uri": "https://localhost:8080/"
        },
        "outputId": "aa596262-7d29-4c2f-9733-5328e48080b2"
      },
      "source": [
        "print(1/((7/50)*(6/49)*(5/48)*(4/47)*(3/46)*(2/45)*(1/45)))"
      ],
      "execution_count": 2,
      "outputs": [
        {
          "output_type": "stream",
          "text": [
            "102154499.99999999\n"
          ],
          "name": "stdout"
        }
      ]
    },
    {
      "cell_type": "code",
      "metadata": {
        "id": "8cfUWfUorjN8"
      },
      "source": [
        "class number:\n",
        "  ''' Draw of number '''\n",
        "  # Would that be better to have a tuple\n",
        "  date = 0 # \n",
        "  number = []\n",
        "  bonus = 0\n",
        "  def __init__(self, date, number, bonus):\n",
        "    self.date = date\n",
        "    self.number = number\n",
        "    self.bonus = bonus"
      ],
      "execution_count": 8,
      "outputs": []
    },
    {
      "cell_type": "code",
      "metadata": {
        "colab": {
          "base_uri": "https://localhost:8080/",
          "height": 1000
        },
        "id": "9HU4xDP3p99U",
        "outputId": "ae89ec4c-d567-4436-9d21-dd719fe31d65"
      },
      "source": [
        "# Historical Max Lotto Number\n",
        "import re\n",
        "from collections import deque\n",
        "from urllib.parse import urljoin\n",
        "\n",
        "import requests\n",
        "\n",
        "r = requests.get('https://www.getmylottoresults.com/lotto-max-past-winning-numbers/')\n",
        "r.status_code\n",
        "r.content.decode('utf-8')"
      ],
      "execution_count": 7,
      "outputs": [
        {
          "output_type": "execute_result",
          "data": {
            "application/vnd.google.colaboratory.intrinsic+json": {
              "type": "string"
            },
            "text/plain": [
              "'\\r\\n<!DOCTYPE html>\\r\\n<html lang=\"en\"><head>\\r\\n<meta http-equiv=\"content-type\" content=\"text/html; charset=UTF-8\">\\r\\n    <meta charset=\"utf-8\">\\r\\n    <meta name=\"viewport\" content=\"width=device-width, initial-scale=1, shrink-to-fit=no\">\\r\\n    <meta name=\"description\" content=\"View past results of Lotto Max draws. The winning numbers are listed for each draw. This history is available from the year 2009, the year Lotto Max was started.\">\\r\\n    <meta name=\"author\" content=\"\">\\r\\n    <title>Past Lotto MAX Winning Numbers - Full History</title>\\r\\n    <link href=\"/style/bootstrap.css\" rel=\"stylesheet\">\\r\\n    <link href=\"/style/pricing.css\" rel=\"stylesheet\">\\r\\n     <link href=\"/style/gmlr2.css\" rel=\"stylesheet\">\\r\\n  </head>\\r\\n  <body>\\r\\n <div id=\\'msg\\' style=\\'display: none;\\'></div>\\r\\n    <div class=\"d-flex flex-column flex-md-row align-items-center p-3 px-md-4 mb-3 bg-white border-bottom box-shadow\">\\r\\n      <h5 class=\"my-0 mr-md-auto font-weight-normal\"><a href=\"https://www.getmylottoresults.com\"><img src=\"/images/hdr_logo.gif\" width=\"320\" height=\"60\" alt=\"Lotto Max Draw Results\" title=\"Lotto Max Results\"></a></h5>\\r\\n      <nav class=\"my-2 my-md-0 mr-md-3\">\\r\\n         <a class=\"p-2 text-dark\" href=\"https://www.getmylottoresults.com\" title=\"Winning Numbers of Lotto Max and Lotto 6/49. Find next draw dates and jackpot amounts here.\">Home</a>\\r\\n        <a class=\"p-2 text-dark\" href=\"https://www.getmylottoresults.com/lotto-max-latest-results/\" title=\"Latest Lotto Max Results and Winning Numbers. Game rules of Lotto Max lottery explained\">Lotto Max</a>\\r\\n        <a class=\"p-2 text-dark\" href=\"https://www.getmylottoresults.com/lotto-649-latest-results/\" title=\"Latest Lotto 649 lottery Results and Winning Numbers. Game rules of Lotto 6/49 lottery explained\">Lotto 6/49</a>\\r\\n        <a class=\"p-2 text-dark\" href=\"https://www.getmylottoresults.com/quick-pick-numbers/\" title=\"Quick Pick numbers for Lotto Max and Lotto 649 lottery\">Quick Pick</a>\\r\\n        <a class=\"disabled p-2 text-dark\" href=\"https://www.getmylottoresults.com/lotto-max-past-winning-numbers/\" title=\"Winning numbers and Results of Lotto Max of past years\">Past Lotto Max Results</a>\\r\\n        <a class=\"p-2 text-dark\" href=\"https://www.getmylottoresults.com/lotto-649-past-winning-numbers/\" title=\"Winning numbers and Results of Lotto 6/49 of past years\">Past 6/49 Results</a>\\r\\n      </nav>\\r\\n      <a class=\"btn btn-outline-primary\" href=\"https://www.getmylottoresults.com/signup/\" title=\"Sign up easily in this free service of getmylottoresults.com\">Sign up</a>&nbsp;&nbsp;\\r\\n       <a class=\"btn btn-outline-primary\" href=\"https://www.getmylottoresults.com/login/\" title=\"Login to view your account\">Login</a>\\r\\n    </div>\\r\\n    <div class=\"container\">\\r\\n\\r\\n    <div class=\"row\">\\r\\n        <div class=\"col-md-10\">\\r\\n            <h1><small>Past Lotto MAX Winning Numbers</small></h1>\\r\\n            <div id=\"feedback\"></div> \\r\\n View all the past winning numbers of Lotto Max lottery in an easy to use format. Just select the year from the drop down list and the results update automatically. The Lotto Max history is available from September 2009, the time this lottery started.<br><br>\\r\\n            The history is automatically updated after each draw.<br><br>\\r\\n            <div class=\"card\">\\r\\n                <div class=\"card-body\">\\r\\n                        <div class=\"row\">\\r\\n                            <div class=\"col-md-3\">\\r\\n    <select class=\\'form-control form-control-sm\\' id=\\'yr\\' name=\"year\" onChange=\"readFile(this.value);\">\\r\\n<OPTION SELECTED VALUE=\"2021\">2021</OPTION>\\r\\n        <OPTION VALUE=\"2020\">2020</OPTION>\\r\\n<OPTION VALUE=\"2019\">2019</OPTION>\\r\\n<OPTION VALUE=\"2018\">2018</OPTION>\\r\\n<OPTION VALUE=\"2017\">2017</OPTION>\\r\\n<OPTION VALUE=\"2016\">2016</OPTION>\\r\\n<OPTION VALUE=\"2015\">2015</OPTION>\\r\\n<OPTION VALUE=\"2014\">2014</OPTION>\\r\\n<OPTION VALUE=\"2013\">2013</OPTION>\\r\\n<OPTION VALUE=\"2012\">2012</OPTION>\\r\\n<OPTION VALUE=\"2011\">2011</OPTION>\\r\\n<OPTION VALUE=\"2010\">2010</OPTION>\\r\\n<OPTION VALUE=\"2009\">2009</OPTION>\\r\\n</select>\\r\\n                                </div>\\r\\n                            </div>\\r\\n\\r\\n                        <div class=\"row\">\\r\\n                            <div class=\"col-md-1\"></div>\\r\\n                            <div class=\"col-md-10\">\\r\\n                                <div id=\"results\"></div>\\r\\n                            </div>\\r\\n                        </div>\\r\\n \\r\\n                </div>\\r\\n            </div>\\r\\n\\r\\n            <br />\\r\\n        </div>\\r\\n        <div class=\"col-md-2\">\\r\\n             <script type=\"text/javascript\"><!--\\r\\n                google_ad_client = \"pub-5804854470680388\";\\r\\n                google_ad_slot = \"5955248196\";\\r\\n                google_ad_width = 120;\\r\\n                google_ad_height = 600;\\r\\n                //-->\\r\\n            </script>\\r\\n            <script type=\"text/javascript\"\\r\\n                src=\"https://pagead2.googlesyndication.com/pagead/show_ads.js\">\\r\\n            </script>       \\r\\n        </div>\\r\\n    </div>\\r\\n    <br />\\r\\n\\r\\n   \\r\\n\\r\\n    <script src=\"/scripts/jquery-1.10.2.js\"></script>\\r\\n    <script src=\"/scripts/popper.js\"></script>\\r\\n    <script src=\"/scripts/bootstrap.js\"></script>\\r\\n      <script  src=\"/scripts/results.js\"></script>\\r\\n<script src=\"https://ssl.google-analytics.com/ga.js\"></script>\\r\\n<script type=\"text/javascript\">\\r\\nvar pageTracker = _gat._getTracker(\"UA-1686539-3\");\\r\\npageTracker._initData();\\r\\npageTracker._trackPageview();\\r\\n</script>\\r\\n            <footer class=\"pt-4 my-md-5 pt-md-5 border-top\">\\r\\n        <div class=\"row\">\\r\\n            <div class=\"col-md-3\">\\r\\n                <div id=\"siteInfo\"> <img src=\"/images/f1.jpg\" width=\"40\" height=\"40\" alt=\"Lottery Winnings\"><span style=\"padding-left: 30px;\">&copy;2006 - 2020 </span> </div>\\r\\n            </div>\\r\\n            <div class=\"col-md-9\" style=\"text-align: right;\"><a href=\"https://www.getmylottoresults.com/aboutus.asp\" title=\"About Get My Lotto Results\">About Us</a> | <a href=\"https://www.getmylottoresults.com/faq.asp\" title=\"FAQ\">FAQ</a> | <a href=\"https://www.getmylottoresults.com/privacy.asp\" title=\"Privacy Policy\">Privacy Policy</a> | <a href=\"https://www.getmylottoresults.com/contact.asp\">Contact Us</a> | <a href=\"https://www.getmylottoresults.com/terms.asp\" title=\"Terms and Conditions\">Terms</a> | <a href=\"https://getmylottoresults.blogspot.com\" title=\"Blog\" target=\"_blank\">Blog</a> \\r\\n            </div>\\r\\n        </div>\\r\\n      </footer>\\r\\n      </div>\\r\\n<script type=\"text/javascript\">\\r\\n    $(document).ready(function () {\\r\\n        currDate = new Date();\\r\\n        readFile(currDate.getFullYear());\\r\\n    });\\r\\n\\r\\n        function readFile(y) {\\r\\n        // y - year\\r\\n        $.get(\"/asp/pastresults.asp\",\\r\\n                { lt: 3, yr: y },\\r\\n                function (data) {\\r\\n                    $(\\'#feedback\\').removeClass();\\r\\n                    $(\\'#feedback\\').addClass(\\'text-success\\');\\r\\n                    $(\\'#results\\').html(data);\\r\\n                }, \"text\");\\r\\n    }\\r\\n\\r\\n \\r\\n    </script>\\r\\n</body>\\r\\n</html>\\r\\n\\r\\n\\r\\n'"
            ]
          },
          "metadata": {
            "tags": []
          },
          "execution_count": 7
        }
      ]
    },
    {
      "cell_type": "code",
      "metadata": {
        "id": "NYDGa1CsqWuZ"
      },
      "source": [
        ""
      ],
      "execution_count": null,
      "outputs": []
    }
  ]
}