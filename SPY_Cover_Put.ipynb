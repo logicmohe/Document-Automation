{
  "nbformat": 4,
  "nbformat_minor": 0,
  "metadata": {
    "colab": {
      "name": "SPY Cover Put.ipynb",
      "provenance": [],
      "collapsed_sections": [],
      "authorship_tag": "ABX9TyNohl0ykWU4pVexitPcV9ar",
      "include_colab_link": true
    },
    "kernelspec": {
      "name": "python3",
      "display_name": "Python 3"
    },
    "language_info": {
      "name": "python"
    }
  },
  "cells": [
    {
      "cell_type": "markdown",
      "metadata": {
        "id": "view-in-github",
        "colab_type": "text"
      },
      "source": [
        "<a href=\"https://colab.research.google.com/github/logicmohe/Document-Automation/blob/master/SPY_Cover_Put.ipynb\" target=\"_parent\"><img src=\"https://colab.research.google.com/assets/colab-badge.svg\" alt=\"Open In Colab\"/></a>"
      ]
    },
    {
      "cell_type": "code",
      "metadata": {
        "id": "VIIgyyVAaNOC"
      },
      "source": [
        "class HourData:\n",
        "  ''' Data in current hour '''\n",
        "  def __init__(self, timeStamp, open, high, low, close, volume):\n",
        "    self.timeStamp = timeStamp\n",
        "    self.open = open\n",
        "    self.high = high\n",
        "    self.low = low\n",
        "    self.close = close\n",
        "    self.volume = volume\n",
        "  def test(self):\n",
        "    print(self.timeStamp)\n",
        "\n",
        "class DailyData:\n",
        "  ''' Data in selected date '''\n",
        "  def __init__ (self, hourlyObj, currentDay):\n",
        "    self.hourlyObj = hourlyObj\n",
        "    self.currentDay = currentDay\n",
        "    self.getMarketHigh()\n",
        "    self.getMarketLow()\n",
        "    self.getMarketDiff()\n",
        "    self.getDayData()\n",
        "  def test(self):\n",
        "    print(self.currentDay)\n",
        "\n",
        "  def getMarketHigh(self):\n",
        "    self.marketHigh = 0.0\n",
        "    for obj in self.hourlyObj:\n",
        "      if float(obj.high)> self.marketHigh:\n",
        "        self.marketHigh = float(obj.high)\n",
        "  def getMarketLow(self):\n",
        "    self.marketLow = 1000.0\n",
        "    for obj in self.hourlyObj:\n",
        "      if float(obj.high) < self.marketLow:\n",
        "        self.marketLow = float(obj.high)\n",
        "  def getMarketDiff(self):\n",
        "    self.marketDiff = round(self.marketHigh - self.marketLow, 2)\n",
        "    self.marketDiffPerc = round(self.marketDiff * 100 / float(self.hourlyObj[11].open),2)\n",
        "  def getDayData(self):\n",
        "    self.open = self.hourlyObj[11].open\n",
        "    self.close = self.hourlyObj[4].close\n",
        "    self.preClose = self.hourlyObj[4].open"
      ],
      "execution_count": 57,
      "outputs": []
    },
    {
      "cell_type": "code",
      "metadata": {
        "id": "Q7DHW9e_ctD0"
      },
      "source": [
        "import requests\n",
        "r = requests.get('https://www.alphavantage.co/query?function=TIME_SERIES_INTRADAY_EXTENDED&symbol=SPY&interval=60min&slice=year1month3&adjusted=false&apikey=X1FABM5B1DPXGUA7')\n",
        "hourlyObj = [] # List of hour object\n",
        "dailyObj = [] # List of daily object\n",
        "hour = 22\n",
        "currentDay = \"1970-01-01\"\n",
        "for hourRecord in r.text.splitlines():\n",
        "  hour -= 1\n",
        "  # Remove the first argu line\n",
        "  if hour == 21:    continue\n",
        "  # Rotate the day time 5:00 - 20:00\n",
        "  if hour == 4:\n",
        "    hour = 20\n",
        "    dailyObj.append(DailyData(hourlyObj, currentDay))\n",
        "    hourlyObj = []\n",
        "      \n",
        "  hourlyObj.append(HourData(\n",
        "      hourRecord.split(',')[0], hourRecord.split(',')[1], hourRecord.split(',')[2], \\\n",
        "      hourRecord.split(',')[3], hourRecord.split(',')[4], hourRecord.split(',')[5]  ))\n",
        "  currentDay = hourRecord.split(\",\")[0][0:10]\n",
        "\n",
        "for obj in dailyObj:\n",
        "  obj.test()\n",
        "  print(\"Day Data - open \" + obj.open + \" close \" + obj.close)\n",
        "  print(\"Preclose is \" + obj.preClose)\n",
        "  print(\"Daily Diff is \" + str(obj.marketDiff))\n",
        "  print(\"Percentage is \" + str(obj.marketDiffPerc) + \"%\")"
      ],
      "execution_count": null,
      "outputs": []
    },
    {
      "cell_type": "code",
      "metadata": {
        "id": "242JKOtidURX"
      },
      "source": [
        ""
      ],
      "execution_count": null,
      "outputs": []
    }
  ]
}