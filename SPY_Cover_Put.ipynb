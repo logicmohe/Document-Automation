{
  "nbformat": 4,
  "nbformat_minor": 0,
  "metadata": {
    "colab": {
      "name": "SPY Cover Put.ipynb",
      "provenance": [],
      "collapsed_sections": [],
      "authorship_tag": "ABX9TyPRaitaXJgdv8tOckyQgDDE",
      "include_colab_link": true
    },
    "kernelspec": {
      "name": "python3",
      "display_name": "Python 3"
    },
    "language_info": {
      "name": "python"
    }
  },
  "cells": [
    {
      "cell_type": "markdown",
      "metadata": {
        "id": "view-in-github",
        "colab_type": "text"
      },
      "source": [
        "<a href=\"https://colab.research.google.com/github/logicmohe/Document-Automation/blob/master/SPY_Cover_Put.ipynb\" target=\"_parent\"><img src=\"https://colab.research.google.com/assets/colab-badge.svg\" alt=\"Open In Colab\"/></a>"
      ]
    },
    {
      "cell_type": "markdown",
      "metadata": {
        "id": "mHh-9r7Ad5NF"
      },
      "source": [
        "# Purpose\n",
        "With historical data, trying to calculate and verify the effect of covering put option using SPY."
      ]
    },
    {
      "cell_type": "code",
      "metadata": {
        "id": "VIIgyyVAaNOC"
      },
      "source": [
        "class HourData:\n",
        "  ''' Data in current hour '''\n",
        "  def __init__(self, timeStamp, open, high, low, close, volume):\n",
        "    self.timeStamp = timeStamp\n",
        "    self.open = open\n",
        "    self.high = high\n",
        "    self.low = low\n",
        "    self.close = close\n",
        "    self.volume = volume\n",
        "  def test(self):\n",
        "    print(self.timeStamp)\n",
        "\n",
        "class DailyData:\n",
        "  ''' Data in selected date '''\n",
        "  def __init__ (self, hourlyObj, currentDay):\n",
        "    self.hourlyObj = hourlyObj\n",
        "    self.currentDay = currentDay\n",
        "    self.getMarketHigh()\n",
        "    self.getMarketLow()\n",
        "    self.getMarketDiff()\n",
        "    self.getDayData()\n",
        "  def test(self):\n",
        "    print(self.currentDay)\n",
        "\n",
        "  def getMarketHigh(self):\n",
        "    self.marketHigh = 0.0\n",
        "    for obj in self.hourlyObj:\n",
        "      if float(obj.high)> self.marketHigh:\n",
        "        self.marketHigh = float(obj.high)\n",
        "  def getMarketLow(self):\n",
        "    self.marketLow = 1000.0\n",
        "    for obj in self.hourlyObj:\n",
        "      if float(obj.high) < self.marketLow:\n",
        "        self.marketLow = float(obj.high)\n",
        "  def getMarketDiff(self):\n",
        "    self.marketDiff = round(self.marketHigh - self.marketLow, 2)\n",
        "    self.marketDiffPerc = round(self.marketDiff * 100 / float(self.hourlyObj[11].open),2)\n",
        "  def getDayData(self):\n",
        "    self.open = self.hourlyObj[11].open\n",
        "    self.close = self.hourlyObj[4].close\n",
        "    self.preClose = self.hourlyObj[4].open"
      ],
      "execution_count": 59,
      "outputs": []
    },
    {
      "cell_type": "code",
      "metadata": {
        "colab": {
          "base_uri": "https://localhost:8080/"
        },
        "id": "Q7DHW9e_ctD0",
        "outputId": "151e9856-4866-4c4c-fb7a-22684e7937ca"
      },
      "source": [
        "import requests\n",
        "r = requests.get('https://www.alphavantage.co/query?function=TIME_SERIES_INTRADAY_EXTENDED&symbol=SPY&interval=60min&slice=year1month3&adjusted=false&apikey=X1FABM5B1DPXGUA7')\n",
        "hourlyObj = [] # List of hour object\n",
        "dailyObj = [] # List of daily object\n",
        "hour = 22\n",
        "currentDay = \"1970-01-01\"\n",
        "for hourRecord in r.text.splitlines():\n",
        "  hour -= 1\n",
        "  # Remove the first argu line\n",
        "  if hour == 21:    continue\n",
        "  # Rotate the day time 5:00 - 20:00\n",
        "  if hour == 4:\n",
        "    hour = 20\n",
        "    dailyObj.append(DailyData(hourlyObj, currentDay))\n",
        "    hourlyObj = []\n",
        "      \n",
        "  hourlyObj.append(HourData(\n",
        "      hourRecord.split(',')[0], hourRecord.split(',')[1], hourRecord.split(',')[2], \\\n",
        "      hourRecord.split(',')[3], hourRecord.split(',')[4], hourRecord.split(',')[5]  ))\n",
        "  currentDay = hourRecord.split(\",\")[0][0:10]\n",
        "\n",
        "for obj in dailyObj:\n",
        "  obj.test()\n",
        "  print(\"Day Data - open \" + obj.open + \" close \" + obj.close)\n",
        "  print(\"Preclose is \" + obj.preClose)\n",
        "  print(\"Daily Diff is \" + str(obj.marketDiff))\n",
        "  print(\"Percentage is \" + str(obj.marketDiffPerc) + \"%\")"
      ],
      "execution_count": 60,
      "outputs": [
        {
          "output_type": "stream",
          "text": [
            "2021-06-04\n",
            "Day Data - open 419.2599 close 422.57\n",
            "Preclose is 422.495\n",
            "Daily Diff is 4.05\n",
            "Percentage is 0.97%\n",
            "2021-06-03\n",
            "Day Data - open 417.3 close 418.82\n",
            "Preclose is 418.76\n",
            "Daily Diff is 2.88\n",
            "Percentage is 0.69%\n",
            "2021-06-02\n",
            "Day Data - open 419.9099 close 420.3601\n",
            "Preclose is 419.89\n",
            "Daily Diff is 1.55\n",
            "Percentage is 0.37%\n",
            "2021-06-01\n",
            "Day Data - open 421.8999 close 419.63\n",
            "Preclose is 420.33\n",
            "Daily Diff is 3.43\n",
            "Percentage is 0.81%\n",
            "2021-05-28\n",
            "Day Data - open 421.36 close 420.03\n",
            "Preclose is 420.77\n",
            "Daily Diff is 1.38\n",
            "Percentage is 0.33%\n",
            "2021-05-27\n",
            "Day Data - open 418.16 close 419.22\n",
            "Preclose is 419.6\n",
            "Daily Diff is 3.16\n",
            "Percentage is 0.76%\n",
            "2021-05-26\n",
            "Day Data - open 419.4296 close 419.0499\n",
            "Preclose is 418.84\n",
            "Daily Diff is 1.06\n",
            "Percentage is 0.25%\n",
            "2021-05-25\n",
            "Day Data - open 420.03 close 418.25\n",
            "Preclose is 418.35\n",
            "Daily Diff is 2.14\n",
            "Percentage is 0.51%\n",
            "2021-05-24\n",
            "Day Data - open 416.74 close 419.13\n",
            "Preclose is 420.055\n",
            "Daily Diff is 3.35\n",
            "Percentage is 0.8%\n",
            "2021-05-21\n",
            "Day Data - open 416.2599 close 414.95\n",
            "Preclose is 415.735\n",
            "Daily Diff is 2.78\n",
            "Percentage is 0.67%\n",
            "2021-05-20\n",
            "Day Data - open 409.61 close 415.25\n",
            "Preclose is 415.59\n",
            "Daily Diff is 7.43\n",
            "Percentage is 1.81%\n",
            "2021-05-19\n",
            "Day Data - open 408.6101 close 410.89\n",
            "Preclose is 408.19\n",
            "Daily Diff is 3.69\n",
            "Percentage is 0.9%\n",
            "2021-05-18\n",
            "Day Data - open 416.15 close 411.98\n",
            "Preclose is 413.99\n",
            "Daily Diff is 6.26\n",
            "Percentage is 1.5%\n",
            "2021-05-17\n",
            "Day Data - open 415.1099 close 415.54\n",
            "Preclose is 415.17\n",
            "Daily Diff is 1.78\n",
            "Percentage is 0.43%\n",
            "2021-05-14\n",
            "Day Data - open 412.86 close 416.55\n",
            "Preclose is 417.215\n",
            "Daily Diff is 4.5\n",
            "Percentage is 1.09%\n",
            "2021-05-13\n",
            "Day Data - open 405.65 close 410.25\n",
            "Preclose is 411.05\n",
            "Daily Diff is 7.89\n",
            "Percentage is 1.95%\n",
            "2021-05-12\n",
            "Day Data - open 412.4899 close 405.44\n",
            "Preclose is 407.44\n",
            "Daily Diff is 8.84\n",
            "Percentage is 2.14%\n",
            "2021-05-11\n",
            "Day Data - open 414.82 close 414.27\n",
            "Preclose is 414.09\n",
            "Daily Diff is 2.28\n",
            "Percentage is 0.55%\n",
            "2021-05-10\n",
            "Day Data - open 422.3696 close 417.99\n",
            "Preclose is 419.355\n",
            "Daily Diff is 5.06\n",
            "Percentage is 1.2%\n"
          ],
          "name": "stdout"
        }
      ]
    },
    {
      "cell_type": "code",
      "metadata": {
        "id": "242JKOtidURX"
      },
      "source": [
        ""
      ],
      "execution_count": null,
      "outputs": []
    }
  ]
}